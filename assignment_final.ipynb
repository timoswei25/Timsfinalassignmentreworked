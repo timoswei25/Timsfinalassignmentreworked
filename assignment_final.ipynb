{
 "cells": [
  {
   "cell_type": "markdown",
   "id": "60d502ed-8aaf-468b-9af7-4c458b0df343",
   "metadata": {},
   "source": [
    "# Data Science Tools and Ecosystem"
   ]
  },
  {
   "cell_type": "markdown",
   "id": "5ea85f2e-8139-48ad-97c1-24330126de1b",
   "metadata": {},
   "source": [
    "## Introduction\n",
    "This notebook provides a brief overview of the fundamental tools and languages used in data science."
   ]
  },
  {
   "cell_type": "markdown",
   "id": "9dbbd3b3-96a5-4fc3-9595-0eb4314bf66b",
   "metadata": {},
   "source": [
    "## Data Science Languages\n",
    "Some of the popular languages used in Data Science include:\n",
    "* Python\n",
    "* R\n",
    "* SQL"
   ]
  },
  {
   "cell_type": "markdown",
   "id": "4f69b562-9371-463d-bfc2-2f4be669cb4f",
   "metadata": {},
   "source": [
    "## Data Science Libraries\n",
    "Some of the commonly used libraries in Data Science include:\n",
    "* NumPy\n",
    "* Pandas\n",
    "* Matplotlib\n",
    "* Seaborn\n",
    "* Scikit-learn"
   ]
  },
  {
   "cell_type": "markdown",
   "id": "712cd678-8620-4b11-94f0-6784823c5a77",
   "metadata": {},
   "source": [
    "## Data Science Tools\n",
    "| Tool | Description |\n",
    "|---|---|\n",
    "| Jupyter Notebook | An interactive environment for data exploration, analysis, and visualization |\n",
    "| RStudio | An integrated development environment (IDE) specifically designed for R |\n",
    "| VS Code | A versatile code editor that can be customized for data science |\n",
    "| Tableau | A powerful data visualization and business intelligence tool |\n",
    "| Power BI | A comprehensive data visualization and business intelligence tool |"
   ]
  },
  {
   "cell_type": "markdown",
   "id": "5d86bfb3-c4d1-4fe5-b133-fbbb0c68d6d0",
   "metadata": {},
   "source": [
    "## Arithmetic Expressions\n",
    "Let's explore some basic arithmetic operations in Python."
   ]
  },
  {
   "cell_type": "code",
   "execution_count": 2,
   "id": "515ec03d-42d8-4b01-94e2-ada175a6fa5d",
   "metadata": {},
   "outputs": [
    {
     "name": "stdout",
     "output_type": "stream",
     "text": [
      "Addition: 35\n",
      "Subtraction: 25\n",
      "Multiplication: 150\n",
      "Division: 6.0\n",
      "Floor Division: 6\n",
      "Modulus: 0\n",
      "Exponentiation: 24300000\n"
     ]
    }
   ],
   "source": [
    "# Arithmetic Operations\n",
    "num1 = 30\n",
    "num2 = 5\n",
    "\n",
    "# Addition\n",
    "addition_result = num1 + num2\n",
    "\n",
    "# Subtraction\n",
    "subtraction_result = num1 - num2\n",
    "\n",
    "# Multiplication\n",
    "multiplication_result = num1 * num2\n",
    "\n",
    "# Division\n",
    "division_result = num1 / num2\n",
    "\n",
    "# Floor Division (Integer division)\n",
    "floor_division_result = num1 // num2\n",
    "\n",
    "# Modulus (Remainder)\n",
    "modulus_result = num1 % num2\n",
    "\n",
    "# Exponentiation\n",
    "exponentiation_result = num1 ** num2\n",
    "\n",
    "print(\"Addition:\", addition_result)\n",
    "print(\"Subtraction:\", subtraction_result)\n",
    "print(\"Multiplication:\", multiplication_result)\n",
    "print(\"Division:\", division_result)\n",
    "print(\"Floor Division:\", floor_division_result)\n",
    "print(\"Modulus:\", modulus_result)\n",
    "print(\"Exponentiation:\", exponentiation_result)"
   ]
  },
  {
   "cell_type": "code",
   "execution_count": 3,
   "id": "132ffc98-5ea8-404a-9e2f-b29c4c59f75a",
   "metadata": {},
   "outputs": [
    {
     "name": "stdout",
     "output_type": "stream",
     "text": [
      "Integer: 112\n",
      "Float: 112.0\n",
      "180 minutes is equal to 3.0 hours.\n"
     ]
    }
   ],
   "source": [
    "# Type Conversion\n",
    "number_string = \"112\"\n",
    "\n",
    "# Convert string to integer\n",
    "number_int = int(number_string)\n",
    "\n",
    "# Convert string to float\n",
    "number_float = float(number_string)\n",
    "\n",
    "print(\"Integer:\", number_int)\n",
    "print(\"Float:\", number_float)\n",
    "\n",
    "# Converting Minutes to Hours\n",
    "minutes = 180\n",
    "hours = minutes / 60\n",
    "\n",
    "print(f\"{minutes} minutes is equal to {hours} hours.\")"
   ]
  },
  {
   "cell_type": "markdown",
   "id": "3bc35fef-3fbc-4984-b4ee-ff70759b94ae",
   "metadata": {},
   "source": [
    "## Objectives\n",
    "* Understand the fundamental tools and languages used in data science.\n",
    "* Learn basic arithmetic operations in Python.\n",
    "* Practice data type conversions in Python."
   ]
  },
  {
   "cell_type": "markdown",
   "id": "e03b69b8-6c21-40be-989b-a3f5103747cf",
   "metadata": {},
   "source": [
    "## Author\n",
    "Timothy Sweitzer"
   ]
  },
  {
   "cell_type": "code",
   "execution_count": null,
   "id": "64478a9c-8c7c-4787-93ea-c8a97892f595",
   "metadata": {},
   "outputs": [],
   "source": []
  }
 ],
 "metadata": {
  "kernelspec": {
   "display_name": "Python 3 (ipykernel)",
   "language": "python",
   "name": "python3"
  },
  "language_info": {
   "codemirror_mode": {
    "name": "ipython",
    "version": 3
   },
   "file_extension": ".py",
   "mimetype": "text/x-python",
   "name": "python",
   "nbconvert_exporter": "python",
   "pygments_lexer": "ipython3",
   "version": "3.11.9"
  }
 },
 "nbformat": 4,
 "nbformat_minor": 5
}
